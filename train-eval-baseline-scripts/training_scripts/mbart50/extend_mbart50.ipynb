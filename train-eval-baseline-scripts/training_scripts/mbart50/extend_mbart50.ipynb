{
 "cells": [
  {
   "cell_type": "code",
   "execution_count": 1,
   "metadata": {},
   "outputs": [
    {
     "data": {
      "text/plain": [
       "<torch._C.Generator at 0x7fc6ec1b7eb0>"
      ]
     },
     "execution_count": 1,
     "metadata": {},
     "output_type": "execute_result"
    }
   ],
   "source": [
    "import torch\n",
    "import torch.nn as nn\n",
    "torch.manual_seed(1234)"
   ]
  },
  {
   "cell_type": "code",
   "execution_count": 2,
   "metadata": {},
   "outputs": [],
   "source": [
    "# original mbart50 checkpoint\n",
    "model_path = 'mbart50.pretrained/model.pt'\n",
    "cp =torch.load(model_path)"
   ]
  },
  {
   "cell_type": "code",
   "execution_count": 3,
   "metadata": {},
   "outputs": [
    {
     "data": {
      "text/plain": [
       "torch.Size([250054, 1024])"
      ]
     },
     "execution_count": 3,
     "metadata": {},
     "output_type": "execute_result"
    }
   ],
   "source": [
    "# embed_tokens weight is 250k + 50 (languages) + 4 (eos,bos,...)\n",
    "cp['model']['encoder.embed_tokens.weight'].shape"
   ]
  },
  {
   "cell_type": "code",
   "execution_count": 4,
   "metadata": {},
   "outputs": [],
   "source": [
    "rand = torch.randn(18, cp['model']['encoder.embed_tokens.weight'].shape[1])\n",
    "\n",
    "rand = cp['model']['encoder.embed_tokens.weight'][3].expand(19,-1) #en_embedding\n",
    "\n",
    "# three embed_tokens weight matrix you need to extend\n",
    "cp['model']['encoder.embed_tokens.weight'] = torch.cat((cp['model']['encoder.embed_tokens.weight'], rand))\n",
    "cp['model']['decoder.embed_tokens.weight'] = torch.cat((cp['model']['decoder.embed_tokens.weight'], rand))\n",
    "cp['model']['decoder.output_projection.weight'] = torch.cat((cp['model']['decoder.output_projection.weight'], rand))\n",
    "\n",
    "torch.save(cp, 'model_extended_EC40.pt')"
   ]
  }
 ],
 "metadata": {
  "kernelspec": {
   "display_name": "Python 3",
   "language": "python",
   "name": "python3"
  },
  "orig_nbformat": 4
 },
 "nbformat": 4,
 "nbformat_minor": 2
}
